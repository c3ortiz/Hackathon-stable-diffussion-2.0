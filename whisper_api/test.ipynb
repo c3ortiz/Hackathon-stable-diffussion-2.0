{
 "cells": [
  {
   "cell_type": "code",
   "execution_count": 2,
   "metadata": {},
   "outputs": [],
   "source": [
    "import whisper"
   ]
  },
  {
   "cell_type": "code",
   "execution_count": 6,
   "metadata": {},
   "outputs": [
    {
     "name": "stderr",
     "output_type": "stream",
     "text": [
      "/home/kali/miniconda3/envs/hackaton/lib/python3.10/site-packages/whisper/transcribe.py:114: UserWarning: FP16 is not supported on CPU; using FP32 instead\n",
      "  warnings.warn(\"FP16 is not supported on CPU; using FP32 instead\")\n"
     ]
    }
   ],
   "source": [
    "model = whisper.load_model('medium')\n",
    "result = model.transcribe('vsauce_short.mp3')"
   ]
  },
  {
   "cell_type": "code",
   "execution_count": 7,
   "metadata": {},
   "outputs": [
    {
     "data": {
      "text/plain": [
       "\" Hey, Vsauce. Michael here. The dog that played Toto in The Wizard of Oz was credited as Toto. But in reality, the dog's name was Terry. And when Terry died in 1945, her owner and trainer, Carl Spitz, buried her on his ranch in Los Angeles. But in 1958, the Ventura Highway was constructed right through Terry's grave. Her remains were disturbed and have never been found. 53 years later, a memorial was erected in Hollywood Forever Cemetery in her honor. But because she isn't buried there, the memorial is not a grave. It's what's known as a cenotaph, an empty tomb. I was reminded of Toto's cenotaph when I saw the cenotaph of Philippoppos atop the Hill of the Muses in Athens. You see, I was recently in Greece talking about YouTube with YouTube creators. The all-seeing eye of Guy came along and we visited the Acropolis, a lion gate nearly a thousand years older than the Acropolis, the earliest known analog computer, plenty of beautiful cats, and I even took a selfie in Delphi. Seeing all of these things and how old they were made me wonder, how will we be remembered? How will future archaeologists react to the ruins of today's society they find thousands of years from now? Will they do a good job piecing it together? Will anything about you in particular be remembered? And for that matter, how do we even know that the past really happened? Not just the way we think it happened, but at all. Seriously. Can you prove that the universe wasn't created last Thursday? That everything, every person, every memory you have, every photo you've taken didn't just pop into existence last week or five minutes ago? Last Thursdayism is the belief that the universe was created last Thursday. It doesn't have actual followers or rituals, but proving it wrong is impossible. Not because the universe actually was created last Thursday, but because last Thursdayism is not falsifiable. It cannot be shown to be false. Any evidence you bring up against it can be explained away as part of the everything that was created last Thursday. Many people believe that in order for a theory, an explanation, to be scientific, it must be possible to refute it, to prove it wrong, to test it. So instead, last Thursdayism falls into the domain of philosophy, where luckily there are razors, little rules of thumb that help shave off unlikely explanations. The most famous is Occam's Razor. When faced with a choice between explanations, choose the one that requires the fewest assumptions. Occam's Razor can shave off last Thursdayism because it requires fewer assumptions to believe that, say, this beehive tomb was constructed way back in the Bronze Age and that I just visited it later, than it does to believe that the tomb, my memories of it, and this footage of me inside it just happened to coincidentally pop into existence at the same time last Thursday. One of my favorite philosophical razors cuts off so much stuff it's not even called a razor. It's called Newton's Flaming Laser Sword. It states, if something cannot be settled by experiment, then it is not worthy of debate. So let's move on to the past. What does Newton's Flaming Laser Sword tell us about the past? I mean, it doesn't exist in the same way gravity or light or protons do. We can't do experiments on it. Build control groups, run trials. The past just is what it was. We will one day be the past and no matter how well we try to record our stories, ourselves, without time machines, future archeologists are going to have to make a lot of guesses about us. But that's kind of cool. Future humans will likely know way more than us today about medicine, about exoplanets, about physics, but one day they almost surely will not know more about than we do is today. Will your great, great, great, great grandkids know your name? Will aliens who visit Earth millions of years after humans leave or go extinct understand that Animorphs was just fiction and not a history of our people? You are destined to become whatever the future thinks you were. If you're lucky, vandals, fire, natural disaster, conquerors, thieves, all of these forces obscure facts over time. But no matter how well we try to preserve today for future history books, there's one type of fog we are unlikely to avoid. Apathy. Ira Glass put it well when he asked his listeners a simple question. Name 10 people from the 15th century. We have records of more than 10 people, but to most of us, they don't matter. In 500 years, radio hosts will be making the same jokes, but about us. However, there is a legacy you leave behind that is irreversible, immutable, and in a way, unforgettable. To conserve energy, turn off when not in use. Or just keep them on. Energy will be conserved no matter what you do. Even if you leave lights on all year, there will be no less or more energy in the universe. What's really being conserved when we turn off lights are the resources we turn into energy the lights can use. But if you counted up all the energy in the system before and after turning the lights on, it would be the same. Energy also does something else. Unless hindered from doing so, energy will spread out. It will disperse. That is, in so few words, the second law of thermodynamics. It's how our universe works. It's why things that happen spontaneously do. Energy spreads. Even when a process locally concentrates energy, like when a crystal forms or life grows, the second law isn't violated because these processes aren't independent from the larger world around them. They aren't 100% efficient. Hindrances can hold back the inevitable spread of energy for a long time. The second law doesn't say when energy will disperse, just that when it can, oh, it will. Balloons will deflate. Objects will fall. Hot objects will cool down and perfume sprayed across the room will eventually migrate to your nose even in really still air. How much or how widely energy has spread out is measured in entropy. Entropy is often called disorder, chaos. But entropy is very different from macroscopic messiness. This deck of cards is themed after Greek philosophers. It's also arranged by value and suit, the entire deck. But if I take the deck and shuffle it, that is, disorder it, I haven't actually increased the deck's entropy because nothing about this deck of cards' energy is different than it was before. However, entropy in the greater world around us has increased because in order to shuffle the cards, my body has to do work. It has to take energy concentrated in my cells and change and disperse that energy into kinetic energy, movement, and a little bit of heat from my body and from the cards, friction, and a little bit of sound energy, that rustling noise. So there's your real legacy, your contribution to the universe's growing entropy. No process will be able to undo the net increase in entropy you accomplish in your life. History may forget you or misinterpret your accomplishments or what you stood for. The ripples you leave behind may get redirected, but the universe will never be able to forget the entropy you add. That's the law, the second law of thermodynamics. Many scientists believe that this means that eventually energy, heat, will be completely spread out evenly throughout the universe. It will be the same temperature everywhere and at that point, nothing will be able to happen because in order for something to happen, entropy needs to increase, energy needs to spread, to move, to change. This may be the ultimate fate of the universe. Thermodynamics are the ultimate dynamic equilibrium, the heat deck of the universe. It's been estimated that at the rate things happen, this end of the universe will occur in about a Google years and you're contributing to it by simply existing. A funny consequence of all of this is the fact that people who aren't very active, people who don't do much but lay around, aren't being lazy. In a way, they're being considerate. Sloth may be a vice, but to the universe, it's a fountain of youth. Choosing to do as little as possible means consciously limiting your contribution to the inevitable dispersal of energy and thus, in a teeny tiny way, postponing the heat deck of our universe. Relaxing adds time to the universe's life. An amount of time to be fair almost indistinguishable from zero, but still theoretically real. Being lazy will make the universe last longer. So thanks for chilling out. Thanks for taking it easy and as always, thanks for watching.\""
      ]
     },
     "execution_count": 7,
     "metadata": {},
     "output_type": "execute_result"
    }
   ],
   "source": [
    "result['text']"
   ]
  },
  {
   "cell_type": "code",
   "execution_count": 8,
   "metadata": {},
   "outputs": [],
   "source": [
    "#open text file\n",
    "text_file = open(\"test_short.txt\", \"w\")\n",
    "\n",
    "#write string to file\n",
    "n = text_file.write(result['text'])\n",
    "\n",
    "#close file\n",
    "text_file.close()"
   ]
  },
  {
   "cell_type": "code",
   "execution_count": 9,
   "metadata": {},
   "outputs": [
    {
     "data": {
      "text/plain": [
       "8473"
      ]
     },
     "execution_count": 9,
     "metadata": {},
     "output_type": "execute_result"
    }
   ],
   "source": [
    "len(result['text'])"
   ]
  },
  {
   "cell_type": "code",
   "execution_count": 4,
   "metadata": {},
   "outputs": [],
   "source": [
    "with open('test_short.txt') as f:\n",
    "    text = f.readlines()[0]"
   ]
  },
  {
   "cell_type": "code",
   "execution_count": 2,
   "metadata": {},
   "outputs": [
    {
     "data": {
      "text/plain": [
       "\" Hey, Vsauce. Michael here. The dog that played Toto in The Wizard of Oz was credited as Toto. But in reality, the dog's name was Terry. And when Terry died in 1945, her owner and trainer, Carl Spitz, buried her on his ranch in Los Angeles. But in 1958, the Ventura Highway was constructed right through Terry's grave. Her remains were disturbed and have never been found. 53 years later, a memorial was erected in Hollywood Forever Cemetery in her honor. But because she isn't buried there, the memorial is not a grave. It's what's known as a cenotaph, an empty tomb. I was reminded of Toto's cenotaph when I saw the cenotaph of Philippoppos atop the Hill of the Muses in Athens. You see, I was recently in Greece talking about YouTube with YouTube creators. The all-seeing eye of Guy came along and we visited the Acropolis, a lion gate nearly a thousand years older than the Acropolis, the earliest known analog computer, plenty of beautiful cats, and I even took a selfie in Delphi. Seeing all of these things and how old they were made me wonder, how will we be remembered? How will future archaeologists react to the ruins of today's society they find thousands of years from now? Will they do a good job piecing it together? Will anything about you in particular be remembered? And for that matter, how do we even know that the past really happened? Not just the way we think it happened, but at all. Seriously. Can you prove that the universe wasn't created last Thursday? That everything, every person, every memory you have, every photo you've taken didn't just pop into existence last week or five minutes ago? Last Thursdayism is the belief that the universe was created last Thursday. It doesn't have actual followers or rituals, but proving it wrong is impossible. Not because the universe actually was created last Thursday, but because last Thursdayism is not falsifiable. It cannot be shown to be false. Any evidence you bring up against it can be explained away as part of the everything that was created last Thursday. Many people believe that in order for a theory, an explanation, to be scientific, it must be possible to refute it, to prove it wrong, to test it. So instead, last Thursdayism falls into the domain of philosophy, where luckily there are razors, little rules of thumb that help shave off unlikely explanations. The most famous is Occam's Razor. When faced with a choice between explanations, choose the one that requires the fewest assumptions. Occam's Razor can shave off last Thursdayism because it requires fewer assumptions to believe that, say, this beehive tomb was constructed way back in the Bronze Age and that I just visited it later, than it does to believe that the tomb, my memories of it, and this footage of me inside it just happened to coincidentally pop into existence at the same time last Thursday. One of my favorite philosophical razors cuts off so much stuff it's not even called a razor. It's called Newton's Flaming Laser Sword. It states, if something cannot be settled by experiment, then it is not worthy of debate. So let's move on to the past. What does Newton's Flaming Laser Sword tell us about the past? I mean, it doesn't exist in the same way gravity or light or protons do. We can't do experiments on it. Build control groups, run trials. The past just is what it was. We will one day be the past and no matter how well we try to record our stories, ourselves, without time machines, future archeologists are going to have to make a lot of guesses about us. But that's kind of cool. Future humans will likely know way more than us today about medicine, about exoplanets, about physics, but one day they almost surely will not know more about than we do is today. Will your great, great, great, great grandkids know your name? Will aliens who visit Earth millions of years after humans leave or go extinct understand that Animorphs was just fiction and not a history of our people? You are destined to become whatever the future thinks you were. If you're lucky, vandals, fire, natural disaster, conquerors, thieves, all of these forces obscure facts over time. But no matter how well we try to preserve today for future history books, there's one type of fog we are unlikely to avoid. Apathy. Ira Glass put it well when he asked his listeners a simple question. Name 10 people from the 15th century. We have records of more than 10 people, but to most of us, they don't matter. In 500 years, radio hosts will be making the same jokes, but about us. However, there is a legacy you leave behind that is irreversible, immutable, and in a way, unforgettable. To conserve energy, turn off when not in use. Or just keep them on. Energy will be conserved no matter what you do. Even if you leave lights on all year, there will be no less or more energy in the universe. What's really being conserved when we turn off lights are the resources we turn into energy the lights can use. But if you counted up all the energy in the system before and after turning the lights on, it would be the same. Energy also does something else. Unless hindered from doing so, energy will spread out. It will disperse. That is, in so few words, the second law of thermodynamics. It's how our universe works. It's why things that happen spontaneously do. Energy spreads. Even when a process locally concentrates energy, like when a crystal forms or life grows, the second law isn't violated because these processes aren't independent from the larger world around them. They aren't 100% efficient. Hindrances can hold back the inevitable spread of energy for a long time. The second law doesn't say when energy will disperse, just that when it can, oh, it will. Balloons will deflate. Objects will fall. Hot objects will cool down and perfume sprayed across the room will eventually migrate to your nose even in really still air. How much or how widely energy has spread out is measured in entropy. Entropy is often called disorder, chaos. But entropy is very different from macroscopic messiness. This deck of cards is themed after Greek philosophers. It's also arranged by value and suit, the entire deck. But if I take the deck and shuffle it, that is, disorder it, I haven't actually increased the deck's entropy because nothing about this deck of cards' energy is different than it was before. However, entropy in the greater world around us has increased because in order to shuffle the cards, my body has to do work. It has to take energy concentrated in my cells and change and disperse that energy into kinetic energy, movement, and a little bit of heat from my body and from the cards, friction, and a little bit of sound energy, that rustling noise. So there's your real legacy, your contribution to the universe's growing entropy. No process will be able to undo the net increase in entropy you accomplish in your life. History may forget you or misinterpret your accomplishments or what you stood for. The ripples you leave behind may get redirected, but the universe will never be able to forget the entropy you add. That's the law, the second law of thermodynamics. Many scientists believe that this means that eventually energy, heat, will be completely spread out evenly throughout the universe. It will be the same temperature everywhere and at that point, nothing will be able to happen because in order for something to happen, entropy needs to increase, energy needs to spread, to move, to change. This may be the ultimate fate of the universe. Thermodynamics are the ultimate dynamic equilibrium, the heat deck of the universe. It's been estimated that at the rate things happen, this end of the universe will occur in about a Google years and you're contributing to it by simply existing. A funny consequence of all of this is the fact that people who aren't very active, people who don't do much but lay around, aren't being lazy. In a way, they're being considerate. Sloth may be a vice, but to the universe, it's a fountain of youth. Choosing to do as little as possible means consciously limiting your contribution to the inevitable dispersal of energy and thus, in a teeny tiny way, postponing the heat deck of our universe. Relaxing adds time to the universe's life. An amount of time to be fair almost indistinguishable from zero, but still theoretically real. Being lazy will make the universe last longer. So thanks for chilling out. Thanks for taking it easy and as always, thanks for watching.\""
      ]
     },
     "execution_count": 2,
     "metadata": {},
     "output_type": "execute_result"
    }
   ],
   "source": [
    "text"
   ]
  },
  {
   "cell_type": "code",
   "execution_count": 1,
   "metadata": {},
   "outputs": [],
   "source": [
    "import os\n",
    "import openai\n"
   ]
  },
  {
   "cell_type": "code",
   "execution_count": 8,
   "metadata": {},
   "outputs": [],
   "source": []
  },
  {
   "cell_type": "code",
   "execution_count": 5,
   "metadata": {},
   "outputs": [],
   "source": [
    "input_prompt = \"sumarize:\" + text"
   ]
  },
  {
   "cell_type": "code",
   "execution_count": 26,
   "metadata": {},
   "outputs": [],
   "source": [
    "completion = openai.ChatCompletion.create(\n",
    "  model = 'gpt-3.5-turbo',\n",
    "  messages = [\n",
    "    {'role': 'user', 'content': input_prompt}\n",
    "  ],\n",
    "  temperature = 0,\n",
    "  max_tokens = 200\n",
    ")\n",
    "sumary = completion['choices'][0]['message']['content']\n",
    "\n"
   ]
  },
  {
   "cell_type": "code",
   "execution_count": 6,
   "metadata": {},
   "outputs": [],
   "source": [
    "with open('test_short_sumary.txt') as f:\n",
    "    sumary = f.readlines()[0]"
   ]
  },
  {
   "cell_type": "code",
   "execution_count": 9,
   "metadata": {},
   "outputs": [],
   "source": [
    "completion = openai.ChatCompletion.create(\n",
    "  model = 'gpt-3.5-turbo',\n",
    "  messages = [\n",
    "    {'role': 'user', 'content': \"Visual description of key concepts of: \" + sumary}\n",
    "  ],\n",
    "  temperature = 0,\n",
    "  max_tokens = 200\n",
    ")"
   ]
  },
  {
   "cell_type": "code",
   "execution_count": 12,
   "metadata": {},
   "outputs": [
    {
     "data": {
      "text/plain": [
       "\"In this video, Michael discusses the concept of last Thursdayism, which is the belief that the universe was created last Thursday. He explains that while it cannot be proven false, it falls into the domain of philosophy rather than science. Michael then explores how future archaeologists will view our society and how we will be remembered. He discusses the concept of entropy and how it contributes to the universe's growing disorder, and how even being lazy can contribute to postponing the inevitable dispersal of energy. Ultimately, Michael concludes that while history may forget us, our contribution to the universe's entropy will never be forgotten.\""
      ]
     },
     "execution_count": 12,
     "metadata": {},
     "output_type": "execute_result"
    }
   ],
   "source": [
    "sumary"
   ]
  },
  {
   "cell_type": "code",
   "execution_count": 10,
   "metadata": {},
   "outputs": [
    {
     "data": {
      "text/plain": [
       "\"The video explores the concept of last Thursdayism, which is the belief that the universe was created last Thursday. It is explained that this belief falls into the domain of philosophy rather than science, as it cannot be proven false. The video then delves into the idea of how future archaeologists will view our society and how we will be remembered. The concept of entropy is introduced, which is the idea that the universe is constantly growing in disorder. The video explains how even being lazy can contribute to the postponing of the inevitable dispersal of energy. Ultimately, the video concludes that while history may forget us, our contribution to the universe's entropy will never be forgotten.\""
      ]
     },
     "execution_count": 10,
     "metadata": {},
     "output_type": "execute_result"
    }
   ],
   "source": [
    "completion['choices'][0]['message']['content']"
   ]
  },
  {
   "cell_type": "code",
   "execution_count": 11,
   "metadata": {},
   "outputs": [],
   "source": [
    "#open text file\n",
    "text_file = open(\"test_short_stable.txt\", \"w\")\n",
    "\n",
    "#write string to file\n",
    "n = text_file.write(completion['choices'][0]['message']['content'])\n",
    "\n",
    "#close file\n",
    "text_file.close()"
   ]
  },
  {
   "cell_type": "code",
   "execution_count": null,
   "metadata": {},
   "outputs": [],
   "source": []
  }
 ],
 "metadata": {
  "kernelspec": {
   "display_name": "base",
   "language": "python",
   "name": "python3"
  },
  "language_info": {
   "codemirror_mode": {
    "name": "ipython",
    "version": 3
   },
   "file_extension": ".py",
   "mimetype": "text/x-python",
   "name": "python",
   "nbconvert_exporter": "python",
   "pygments_lexer": "ipython3",
   "version": "3.10.10"
  },
  "orig_nbformat": 4
 },
 "nbformat": 4,
 "nbformat_minor": 2
}
